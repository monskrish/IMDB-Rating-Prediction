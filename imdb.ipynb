import pandas as pd
from sklearn.model_selection import train_test_split
from sklearn.linear_model import LinearRegression
from sklearn.preprocessing import LabelEncoder
from sklearn.metrics import mean_squared_error, r2_score


df = pd.read_csv('imdb_movies.csv')


df.fillna(df.mean(numeric_only=True), inplace=True)
df.fillna(method='ffill', inplace=True)


label_encoders = {}
for col in ['Genre', 'Director']:
    le = LabelEncoder()
    df[col] = le.fit_transform(df[col])
    label_encoders[col] = le


X = df.drop('Rating', axis=1)
y = df['Rating']


X_train, X_test, y_train, y_test = train_test_split(X, y, test_size=0.2, random_state=42)


model = LinearRegression()
model.fit(X_train, y_train)


y_pred = model.predict(X_test)
mse = mean_squared_error(y_test, y_pred)
r2 = r2_score(y_test, y_pred)

print(f"Mean Squared Error: {mse:.2f}")
print(f"R² Score: {r2:.2f}")


def predict_imdb_rating(genre, director, runtime, votes, revenue):
    genre_encoded = label_encoders['Genre'].transform([genre])[0]
    director_encoded = label_encoders['Director'].transform([director])[0]
    input_data = pd.DataFrame([[genre_encoded, director_encoded, runtime, votes, revenue]],
                              columns=['Genre', 'Director', 'Runtime', 'Votes', 'Revenue (Millions)'])
    prediction = model.predict(input_data)[0]
    return round(prediction, 2)

new_rating = predict_imdb_rating('Comedy', 'Taika Waititi', 115, 200000, 120.0)
print(f"Predicted IMDb Rating: 
